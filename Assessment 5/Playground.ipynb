{
    "metadata": {
        "kernelspec": {
            "name": "python3",
            "display_name": "Python 3",
            "language": "python"
        }
    },
    "nbformat": 4,
    "nbformat_minor": 1,
    "cells": [
        {
            "cell_type": "code",
            "execution_count": 0,
            "metadata": {},
            "outputs": [],
            "source": [
                "import geopandas as gpd\n",
                "import pandas as pd\n",
                "import matplotlib.pyplot as plt\n",
                "\n",
                "SHAPE_FILE = '/course/food_access/tl_2010_53_tract00/tl_2010_53_tract00.shp'\n",
                "FOOD_ACCESS_FILE = '/course/food_access/food_access.csv'"
            ]
        }
    ]
}
